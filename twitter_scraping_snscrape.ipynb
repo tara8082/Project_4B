{
 "metadata": {
  "language_info": {
   "codemirror_mode": {
    "name": "ipython",
    "version": 3
   },
   "file_extension": ".py",
   "mimetype": "text/x-python",
   "name": "python",
   "nbconvert_exporter": "python",
   "pygments_lexer": "ipython3",
   "version": "3.8.5-final"
  },
  "orig_nbformat": 2,
  "kernelspec": {
   "name": "Python 3.8.5 64-bit",
   "display_name": "Python 3.8.5 64-bit",
   "metadata": {
    "interpreter": {
     "hash": "ddd4d743fd1d38e605abc3a37886e115f06419814ac94d7a1c9c2c18274a5f3d"
    }
   }
  }
 },
 "nbformat": 4,
 "nbformat_minor": 2,
 "cells": [
  {
   "source": [
    "## Scraping Twitter User Accounts\n",
    "- Source: https://github.com/JustAnotherArchivist/snscrape\n"
   ],
   "cell_type": "markdown",
   "metadata": {}
  },
  {
   "source": [
    "# This entire cell is executed in the command line.\n",
    "\n",
    "pip3 install git+https://github.com/JustAnotherArchivist/snscrape.git \n",
    "\n",
    "# choose twitter user\n",
    "# set max tweets\n",
    "# more documentation on snscrape's git repo if you want to pull using other filters\n",
    "\n",
    "# exclamation point wouldn't work\n",
    "\n",
    "snscrape --jsonl --max-results 175000 twitter-user wsj > wsj_150k.json\n",
    "snscrape --jsonl --max-results 175000 twitter-user washingtonpost > washingtonpost_175k.json\n",
    "snscrape --jsonl --max-results 175000 twitter-user cnn > cnn_175k.json\n",
    "snscrape --jsonl --max-results 175000 twitter-user nytimes > nytimes_175k.json\n",
    "snscrape --jsonl --max-results 175000 twitter-user npr > npr_175k.json\n",
    "snscrape --jsonl --max-results 175000 twitter-user abc > abc_175k.json\n",
    "snscrape --jsonl --max-results 175000 twitter-user huffpost > huffpost_175k.json\n",
    "snscrape --jsonl --max-results 175000 twitter-user financialtimes > financialtimes_175k.json\n",
    "snscrape --jsonl --max-results 175000 twitter-user forbes > forbes_175k.json\n",
    "snscrape --jsonl --max-results 175000 twitter-user nbcnews > nbcnews_175k.json\n",
    "snscrape --jsonl --max-results 175000 twitter-user reuters > reuters_175k.json\n",
    "snscrape --jsonl --max-results 175000 twitter-user bbcworld > bbcworld_175k.json\n",
    "snscrape --jsonl --max-results 175000 twitter-user ap > ap_175k.json\n",
    "snscrape --jsonl --max-results 175000 twitter-user business > business_175k.json\n",
    "snscrape --jsonl --max-results 175000 twitter-user nypost > nypost_175k.json\n"
   ],
   "cell_type": "code",
   "metadata": {},
   "execution_count": null,
   "outputs": []
  },
  {
   "cell_type": "code",
   "execution_count": 2,
   "metadata": {},
   "outputs": [],
   "source": [
    "import json\n",
    "import pandas as pd\n"
   ]
  },
  {
   "cell_type": "code",
   "execution_count": 1,
   "metadata": {},
   "outputs": [
    {
     "output_type": "error",
     "ename": "FileNotFoundError",
     "evalue": "[Errno 2] No such file or directory: 'wsj_35000.json'",
     "traceback": [
      "\u001b[0;31m---------------------------------------------------------------------------\u001b[0m",
      "\u001b[0;31mFileNotFoundError\u001b[0m                         Traceback (most recent call last)",
      "\u001b[0;32m<ipython-input-1-9da506334ab7>\u001b[0m in \u001b[0;36m<module>\u001b[0;34m\u001b[0m\n\u001b[1;32m      9\u001b[0m \u001b[0mtable\u001b[0m \u001b[0;34m=\u001b[0m \u001b[0;34m[\u001b[0m\u001b[0;34m]\u001b[0m\u001b[0;34m\u001b[0m\u001b[0;34m\u001b[0m\u001b[0m\n\u001b[1;32m     10\u001b[0m \u001b[0;32mfor\u001b[0m \u001b[0muser\u001b[0m \u001b[0;32min\u001b[0m \u001b[0muser_list\u001b[0m\u001b[0;34m:\u001b[0m\u001b[0;34m\u001b[0m\u001b[0;34m\u001b[0m\u001b[0m\n\u001b[0;32m---> 11\u001b[0;31m     \u001b[0;32mwith\u001b[0m \u001b[0mopen\u001b[0m\u001b[0;34m(\u001b[0m\u001b[0muser\u001b[0m \u001b[0;34m+\u001b[0m \u001b[0;34m'_35000.json'\u001b[0m\u001b[0;34m,\u001b[0m \u001b[0;34m'r'\u001b[0m\u001b[0;34m)\u001b[0m \u001b[0;32mas\u001b[0m \u001b[0mf\u001b[0m\u001b[0;34m:\u001b[0m\u001b[0;34m\u001b[0m\u001b[0;34m\u001b[0m\u001b[0m\n\u001b[0m\u001b[1;32m     12\u001b[0m         \u001b[0;32mfor\u001b[0m \u001b[0mline\u001b[0m \u001b[0;32min\u001b[0m \u001b[0mf\u001b[0m\u001b[0;34m:\u001b[0m\u001b[0;34m\u001b[0m\u001b[0;34m\u001b[0m\u001b[0m\n\u001b[1;32m     13\u001b[0m             \u001b[0mtable\u001b[0m\u001b[0;34m.\u001b[0m\u001b[0mappend\u001b[0m\u001b[0;34m(\u001b[0m\u001b[0mjson\u001b[0m\u001b[0;34m.\u001b[0m\u001b[0mloads\u001b[0m\u001b[0;34m(\u001b[0m\u001b[0mline\u001b[0m\u001b[0;34m)\u001b[0m\u001b[0;34m)\u001b[0m\u001b[0;34m\u001b[0m\u001b[0;34m\u001b[0m\u001b[0m\n",
      "\u001b[0;31mFileNotFoundError\u001b[0m: [Errno 2] No such file or directory: 'wsj_35000.json'"
     ]
    }
   ],
   "source": [
    "# JUPYTER NOTEBOOK: make sure your JSON file is in the same folder as your jupyter notebook\n",
    "\n",
    "\n",
    "import json\n",
    "import pandas as pd\n",
    "\n",
    "user_list = ['wsj', 'washingtonpost','cnn', 'nytimes', 'npr', 'abc', 'huffpost', 'financialtimes', 'forbes', 'nbcnews', 'reuters', 'bbcworld', 'ap', 'business', 'nypost']\n",
    "\n",
    "table = []\n",
    "for user in user_list:\n",
    "    with open(user + '_35000.json', 'r') as f:\n",
    "        for line in f:\n",
    "            table.append(json.loads(line))"
   ]
  },
  {
   "cell_type": "code",
   "execution_count": 3,
   "metadata": {},
   "outputs": [
    {
     "output_type": "execute_result",
     "data": {
      "text/plain": [
       "list"
      ]
     },
     "metadata": {},
     "execution_count": 3
    }
   ],
   "source": [
    "type(table)"
   ]
  },
  {
   "cell_type": "code",
   "execution_count": 4,
   "metadata": {},
   "outputs": [
    {
     "output_type": "execute_result",
     "data": {
      "text/plain": [
       "525000"
      ]
     },
     "metadata": {},
     "execution_count": 4
    }
   ],
   "source": [
    "len(table)"
   ]
  },
  {
   "cell_type": "code",
   "execution_count": 6,
   "metadata": {},
   "outputs": [],
   "source": [
    "# Create dataframe from table\n",
    "\n",
    "df = pd.DataFrame(table)\n"
   ]
  },
  {
   "cell_type": "code",
   "execution_count": 9,
   "metadata": {},
   "outputs": [],
   "source": [
    "# Sets up dataframe with user info, date, and tweet content\n",
    "df = df[['user', 'date', 'content']]"
   ]
  },
  {
   "cell_type": "code",
   "execution_count": 10,
   "metadata": {},
   "outputs": [
    {
     "output_type": "execute_result",
     "data": {
      "text/plain": [
       "                                                     user  \\\n",
       "0       {'username': 'WSJ', 'displayname': 'The Wall S...   \n",
       "1       {'username': 'WSJ', 'displayname': 'The Wall S...   \n",
       "2       {'username': 'WSJ', 'displayname': 'The Wall S...   \n",
       "3       {'username': 'WSJ', 'displayname': 'The Wall S...   \n",
       "4       {'username': 'WSJ', 'displayname': 'The Wall S...   \n",
       "...                                                   ...   \n",
       "524995  {'username': 'nypost', 'displayname': 'New Yor...   \n",
       "524996  {'username': 'nypost', 'displayname': 'New Yor...   \n",
       "524997  {'username': 'nypost', 'displayname': 'New Yor...   \n",
       "524998  {'username': 'nypost', 'displayname': 'New Yor...   \n",
       "524999  {'username': 'nypost', 'displayname': 'New Yor...   \n",
       "\n",
       "                             date  \\\n",
       "0       2020-11-01T19:10:08+00:00   \n",
       "1       2020-11-01T19:00:18+00:00   \n",
       "2       2020-11-01T18:45:09+00:00   \n",
       "3       2020-11-01T18:30:07+00:00   \n",
       "4       2020-11-01T18:20:03+00:00   \n",
       "...                           ...   \n",
       "524995  2020-05-12T00:14:01+00:00   \n",
       "524996  2020-05-12T00:14:00+00:00   \n",
       "524997  2020-05-12T00:01:03+00:00   \n",
       "524998  2020-05-11T23:53:30+00:00   \n",
       "524999  2020-05-11T23:53:29+00:00   \n",
       "\n",
       "                                                  content  \n",
       "0       Biden leads Trump among Hispanic voters, 62% t...  \n",
       "1       “We can’t keep up with the laundry.” Covid-19 ...  \n",
       "2       A large English study showed the number of peo...  \n",
       "3       The leaders of Microsoft, Coca-Cola, American ...  \n",
       "4       After seven months of isolation, the pull of g...  \n",
       "...                                                   ...  \n",
       "524995  Tiny cookie cereal and mini pancakes are big o...  \n",
       "524996  'Devastated' subway driver after knife attack:...  \n",
       "524997  Crew members stage hunger strike to get cruise...  \n",
       "524998  Hero of the Day: Parks officer works 28 days s...  \n",
       "524999  MLB players' excruciating decision may cause r...  \n",
       "\n",
       "[525000 rows x 3 columns]"
      ],
      "text/html": "<div>\n<style scoped>\n    .dataframe tbody tr th:only-of-type {\n        vertical-align: middle;\n    }\n\n    .dataframe tbody tr th {\n        vertical-align: top;\n    }\n\n    .dataframe thead th {\n        text-align: right;\n    }\n</style>\n<table border=\"1\" class=\"dataframe\">\n  <thead>\n    <tr style=\"text-align: right;\">\n      <th></th>\n      <th>user</th>\n      <th>date</th>\n      <th>content</th>\n    </tr>\n  </thead>\n  <tbody>\n    <tr>\n      <th>0</th>\n      <td>{'username': 'WSJ', 'displayname': 'The Wall S...</td>\n      <td>2020-11-01T19:10:08+00:00</td>\n      <td>Biden leads Trump among Hispanic voters, 62% t...</td>\n    </tr>\n    <tr>\n      <th>1</th>\n      <td>{'username': 'WSJ', 'displayname': 'The Wall S...</td>\n      <td>2020-11-01T19:00:18+00:00</td>\n      <td>“We can’t keep up with the laundry.” Covid-19 ...</td>\n    </tr>\n    <tr>\n      <th>2</th>\n      <td>{'username': 'WSJ', 'displayname': 'The Wall S...</td>\n      <td>2020-11-01T18:45:09+00:00</td>\n      <td>A large English study showed the number of peo...</td>\n    </tr>\n    <tr>\n      <th>3</th>\n      <td>{'username': 'WSJ', 'displayname': 'The Wall S...</td>\n      <td>2020-11-01T18:30:07+00:00</td>\n      <td>The leaders of Microsoft, Coca-Cola, American ...</td>\n    </tr>\n    <tr>\n      <th>4</th>\n      <td>{'username': 'WSJ', 'displayname': 'The Wall S...</td>\n      <td>2020-11-01T18:20:03+00:00</td>\n      <td>After seven months of isolation, the pull of g...</td>\n    </tr>\n    <tr>\n      <th>...</th>\n      <td>...</td>\n      <td>...</td>\n      <td>...</td>\n    </tr>\n    <tr>\n      <th>524995</th>\n      <td>{'username': 'nypost', 'displayname': 'New Yor...</td>\n      <td>2020-05-12T00:14:01+00:00</td>\n      <td>Tiny cookie cereal and mini pancakes are big o...</td>\n    </tr>\n    <tr>\n      <th>524996</th>\n      <td>{'username': 'nypost', 'displayname': 'New Yor...</td>\n      <td>2020-05-12T00:14:00+00:00</td>\n      <td>'Devastated' subway driver after knife attack:...</td>\n    </tr>\n    <tr>\n      <th>524997</th>\n      <td>{'username': 'nypost', 'displayname': 'New Yor...</td>\n      <td>2020-05-12T00:01:03+00:00</td>\n      <td>Crew members stage hunger strike to get cruise...</td>\n    </tr>\n    <tr>\n      <th>524998</th>\n      <td>{'username': 'nypost', 'displayname': 'New Yor...</td>\n      <td>2020-05-11T23:53:30+00:00</td>\n      <td>Hero of the Day: Parks officer works 28 days s...</td>\n    </tr>\n    <tr>\n      <th>524999</th>\n      <td>{'username': 'nypost', 'displayname': 'New Yor...</td>\n      <td>2020-05-11T23:53:29+00:00</td>\n      <td>MLB players' excruciating decision may cause r...</td>\n    </tr>\n  </tbody>\n</table>\n<p>525000 rows × 3 columns</p>\n</div>"
     },
     "metadata": {},
     "execution_count": 10
    }
   ],
   "source": [
    "df"
   ]
  },
  {
   "cell_type": "code",
   "execution_count": 11,
   "metadata": {},
   "outputs": [],
   "source": [
    "# Converts to csv\n",
    "\n",
    "df.to_csv (r'/Users/Tara8082/GIT/ProjectGIT/Project_4.csv', index = False, header=True)"
   ]
  },
  {
   "source": [
    "## JUMBO DATAFRAME of all username's headlines"
   ],
   "cell_type": "markdown",
   "metadata": {}
  },
  {
   "cell_type": "code",
   "execution_count": 3,
   "metadata": {},
   "outputs": [],
   "source": [
    "user_list = ['wsj', 'washingtonpost','cnn', 'nytimes', 'npr', 'abc', 'huffpost', 'financialtimes', 'forbes', 'nbcnews', 'reuters', 'bbcworld', 'ap', 'business', 'nypost']\n",
    "\n",
    "path = '/Users/Tara8082/GIT/ProjectGIT/Project_4/jumbo_json/'\n",
    "\n",
    "table2 = []\n",
    "for user in user_list:\n",
    "    with open(path + user + '_175k.json', 'r') as f:\n",
    "        for line in f:\n",
    "            table2.append(json.loads(line))"
   ]
  },
  {
   "cell_type": "code",
   "execution_count": 4,
   "metadata": {},
   "outputs": [],
   "source": [
    "df2 = pd.DataFrame(table2)"
   ]
  },
  {
   "cell_type": "code",
   "execution_count": 5,
   "metadata": {},
   "outputs": [],
   "source": [
    "df2 = df2[['user', 'date', 'content']]"
   ]
  },
  {
   "cell_type": "code",
   "execution_count": 6,
   "metadata": {},
   "outputs": [
    {
     "output_type": "stream",
     "name": "stdout",
     "text": [
      "<class 'pandas.core.frame.DataFrame'>\nRangeIndex: 2448364 entries, 0 to 2448363\nData columns (total 3 columns):\n #   Column   Dtype \n---  ------   ----- \n 0   user     object\n 1   date     object\n 2   content  object\ndtypes: object(3)\nmemory usage: 56.0+ MB\n"
     ]
    }
   ],
   "source": [
    "df2.info()"
   ]
  },
  {
   "cell_type": "code",
   "execution_count": 7,
   "metadata": {},
   "outputs": [],
   "source": [
    "df2.to_csv (r'/Users/Tara8082/GIT/ProjectGIT/jumbo_headlines.csv', index = False, header=True)"
   ]
  },
  {
   "cell_type": "code",
   "execution_count": null,
   "metadata": {},
   "outputs": [],
   "source": []
  }
 ]
}