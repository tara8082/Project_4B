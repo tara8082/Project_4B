{
 "metadata": {
  "language_info": {
   "codemirror_mode": {
    "name": "ipython",
    "version": 3
   },
   "file_extension": ".py",
   "mimetype": "text/x-python",
   "name": "python",
   "nbconvert_exporter": "python",
   "pygments_lexer": "ipython3",
   "version": "3.8.3-final"
  },
  "orig_nbformat": 2,
  "kernelspec": {
   "name": "Python 3.8.3 64-bit ('base': conda)",
   "display_name": "Python 3.8.3 64-bit ('base': conda)",
   "metadata": {
    "interpreter": {
     "hash": "3c571a3936def54361d27f1d5475dc527cbe29b91ce6326f2904d89e32dd3788"
    }
   }
  }
 },
 "nbformat": 4,
 "nbformat_minor": 2,
 "cells": [
  {
   "source": [
    "## CorEx Topic Modeling"
   ],
   "cell_type": "markdown",
   "metadata": {}
  },
  {
   "cell_type": "code",
   "execution_count": 1,
   "metadata": {},
   "outputs": [
    {
     "output_type": "stream",
     "name": "stderr",
     "text": [
      "[nltk_data] Downloading package stopwords to\n[nltk_data]     /Users/Tara8082/nltk_data...\n[nltk_data]   Package stopwords is already up-to-date!\n"
     ]
    }
   ],
   "source": [
    "import pandas as pd\n",
    "import numpy as np\n",
    "import matplotlib.pyplot as plt\n",
    "%matplotlib inline\n",
    "\n",
    "# Python support modules\n",
    "import re\n",
    "import string\n",
    "import datetime\n",
    "import pickle \n",
    "from collections import Counter\n",
    "\n",
    "# Spacy\n",
    "import spacy\n",
    "from spacy.lemmatizer import Lemmatizer\n",
    "from spacy.lang.en.stop_words import STOP_WORDS\n",
    "#import en_core_web_smf\n",
    "from spacy.pipeline import SentenceSegmenter\n",
    "\n",
    "# CorEx\n",
    "from corextopic import corextopic as ct\n",
    "from corextopic import vis_topic as vt\n",
    "\n",
    "# NLTK\n",
    "import nltk\n",
    "nltk.download('stopwords')\n",
    "from nltk.tokenize import word_tokenize\n",
    "from nltk.corpus import words, stopwords, wordnet\n",
    "\n",
    "# Sklearn\n",
    "from sklearn.feature_extraction.text import CountVectorizer\n",
    "from sklearn.feature_extraction.text import TfidfVectorizer\n",
    "from sklearn.decomposition import TruncatedSVD\n",
    "from sklearn.pipeline import Pipeline"
   ]
  },
  {
   "cell_type": "code",
   "execution_count": 32,
   "metadata": {},
   "outputs": [],
   "source": [
    "headlines_2016 = pd.read_csv('/Users/Tara8082/GIT/ProjectGIT/Project_4/miscellaneous_support/final_processed_2016.csv', index_col = 0)\n",
    "pd.set_option('max_colwidth', 100)\n",
    "\n",
    "headlines_2017 = pd.read_csv('/Users/Tara8082/GIT/ProjectGIT/Project_4/miscellaneous_support/final_processed_2017.csv', index_col = 0)\n",
    "pd.set_option('max_colwidth', 100)\n",
    "\n",
    "headlines_2018 = pd.read_csv('/Users/Tara8082/GIT/ProjectGIT/Project_4/miscellaneous_support/final_processed_2018.csv', index_col = 0)\n",
    "pd.set_option('max_colwidth', 100)\n",
    "\n",
    "headlines_2019 = pd.read_csv('/Users/Tara8082/GIT/ProjectGIT/Project_4/miscellaneous_support/final_processed_2019.csv', index_col = 0)\n",
    "pd.set_option('max_colwidth', 100)\n",
    "\n",
    "headlines_2020 = pd.read_csv('/Users/Tara8082/GIT/ProjectGIT/Project_4/miscellaneous_support/final_processed_2020.csv', index_col = 0)\n",
    "pd.set_option('max_colwidth', 100)"
   ]
  },
  {
   "cell_type": "code",
   "execution_count": 33,
   "metadata": {},
   "outputs": [
    {
     "output_type": "execute_result",
     "data": {
      "text/plain": [
       "                                                                                                   content  \\\n",
       "97353  Judge rules PricewaterhouseCoopers was negligent in Colonial Bank failure, opening auditor to mi...   \n",
       "97354  While other assets have soared in 2017, yields on longer-term U.S. Treasury bonds have remained ...   \n",
       "97355  There are signs that the Crimson Tide’s reign of dominance may be loosening—and Monday’s College...   \n",
       "97356  How did your school do in our college rankings? Search, compare, and re-rank based on what matte...   \n",
       "97357  Try our GOP tax plan calculator. Calculate your taxes and discover the possible effect of the ne...   \n",
       "97358  Have your cake and eat it too? This weight-loss strategy allows you to eat whatever you want, so...   \n",
       "97359  A Trump administration plan would put safety regulators in the role of promoting oil development...   \n",
       "97360  A weather phenomenon that has wreaked havoc on commodity prices in the past could return in 2018...   \n",
       "97361  A surge in generosity, an eye on taxes: Charities benefit as donors try to squeeze in gifts befo...   \n",
       "97362                 Meet Ripple, the currency that’s running laps around bitcoin https://t.co/sIUU0ZHjWm   \n",
       "\n",
       "                                                                                             clean_content  \\\n",
       "97353  judge rules pricewaterhousecoopers was negligent in colonial bank failure opening auditor to mil...   \n",
       "97354  while other assets have soared in yields on longer term u s treasury bonds have remained stubbor...   \n",
       "97355  there are signs that the crimson tide s reign of dominance may be loosening and monday s college...   \n",
       "97356  how did your school do in our college rankings search compare and re rank based on what matters ...   \n",
       "97357  try our gop tax plan calculator calculate your taxes and discover the possible effect of the new...   \n",
       "97358  have your cake and eat it too this weight loss strategy allows you to eat whatever you want so l...   \n",
       "97359     a trump administration plan would put safety regulators in the role of promoting oil development   \n",
       "97360          a weather phenomenon that has wreaked havoc on commodity prices in the past could return in   \n",
       "97361  a surge in generosity an eye on taxes charities benefit as donors try to squeeze in gifts before...   \n",
       "97362                                          meet ripple the currency that s running laps around bitcoin   \n",
       "\n",
       "                                                                                                processed  \n",
       "97353  judge rule pricewaterhousecoopers negligent colonial bank failure auditor million potential damage  \n",
       "97354                           asset soar yield term treasury bond remain stubbornly low unlikely change  \n",
       "97355           sign crimson tide reign dominance loosen college football playoff semifinal ultimate test  \n",
       "97356                                              school college ranking search compare rank base matter  \n",
       "97357                                     try gop tax plan calculator calculate taxis discover effect law  \n",
       "97358                                        cake eat weight loss strategy allow eat whatever hour window  \n",
       "97359                             trump administration plan safety regulator role promote oil development  \n",
       "97360                                          weather phenomenon wreak havoc commodity price past return  \n",
       "97361               surge generosity eye taxis charity benefit donor try squeeze gift tax law take effect  \n",
       "97362                                                                meet ripple currency run lap bitcoin  "
      ],
      "text/html": "<div>\n<style scoped>\n    .dataframe tbody tr th:only-of-type {\n        vertical-align: middle;\n    }\n\n    .dataframe tbody tr th {\n        vertical-align: top;\n    }\n\n    .dataframe thead th {\n        text-align: right;\n    }\n</style>\n<table border=\"1\" class=\"dataframe\">\n  <thead>\n    <tr style=\"text-align: right;\">\n      <th></th>\n      <th>content</th>\n      <th>clean_content</th>\n      <th>processed</th>\n    </tr>\n  </thead>\n  <tbody>\n    <tr>\n      <th>97353</th>\n      <td>Judge rules PricewaterhouseCoopers was negligent in Colonial Bank failure, opening auditor to mi...</td>\n      <td>judge rules pricewaterhousecoopers was negligent in colonial bank failure opening auditor to mil...</td>\n      <td>judge rule pricewaterhousecoopers negligent colonial bank failure auditor million potential damage</td>\n    </tr>\n    <tr>\n      <th>97354</th>\n      <td>While other assets have soared in 2017, yields on longer-term U.S. Treasury bonds have remained ...</td>\n      <td>while other assets have soared in yields on longer term u s treasury bonds have remained stubbor...</td>\n      <td>asset soar yield term treasury bond remain stubbornly low unlikely change</td>\n    </tr>\n    <tr>\n      <th>97355</th>\n      <td>There are signs that the Crimson Tide’s reign of dominance may be loosening—and Monday’s College...</td>\n      <td>there are signs that the crimson tide s reign of dominance may be loosening and monday s college...</td>\n      <td>sign crimson tide reign dominance loosen college football playoff semifinal ultimate test</td>\n    </tr>\n    <tr>\n      <th>97356</th>\n      <td>How did your school do in our college rankings? Search, compare, and re-rank based on what matte...</td>\n      <td>how did your school do in our college rankings search compare and re rank based on what matters ...</td>\n      <td>school college ranking search compare rank base matter</td>\n    </tr>\n    <tr>\n      <th>97357</th>\n      <td>Try our GOP tax plan calculator. Calculate your taxes and discover the possible effect of the ne...</td>\n      <td>try our gop tax plan calculator calculate your taxes and discover the possible effect of the new...</td>\n      <td>try gop tax plan calculator calculate taxis discover effect law</td>\n    </tr>\n    <tr>\n      <th>97358</th>\n      <td>Have your cake and eat it too? This weight-loss strategy allows you to eat whatever you want, so...</td>\n      <td>have your cake and eat it too this weight loss strategy allows you to eat whatever you want so l...</td>\n      <td>cake eat weight loss strategy allow eat whatever hour window</td>\n    </tr>\n    <tr>\n      <th>97359</th>\n      <td>A Trump administration plan would put safety regulators in the role of promoting oil development...</td>\n      <td>a trump administration plan would put safety regulators in the role of promoting oil development</td>\n      <td>trump administration plan safety regulator role promote oil development</td>\n    </tr>\n    <tr>\n      <th>97360</th>\n      <td>A weather phenomenon that has wreaked havoc on commodity prices in the past could return in 2018...</td>\n      <td>a weather phenomenon that has wreaked havoc on commodity prices in the past could return in</td>\n      <td>weather phenomenon wreak havoc commodity price past return</td>\n    </tr>\n    <tr>\n      <th>97361</th>\n      <td>A surge in generosity, an eye on taxes: Charities benefit as donors try to squeeze in gifts befo...</td>\n      <td>a surge in generosity an eye on taxes charities benefit as donors try to squeeze in gifts before...</td>\n      <td>surge generosity eye taxis charity benefit donor try squeeze gift tax law take effect</td>\n    </tr>\n    <tr>\n      <th>97362</th>\n      <td>Meet Ripple, the currency that’s running laps around bitcoin https://t.co/sIUU0ZHjWm</td>\n      <td>meet ripple the currency that s running laps around bitcoin</td>\n      <td>meet ripple currency run lap bitcoin</td>\n    </tr>\n  </tbody>\n</table>\n</div>"
     },
     "metadata": {},
     "execution_count": 33
    }
   ],
   "source": [
    "headlines_2017.head(10)"
   ]
  },
  {
   "cell_type": "code",
   "execution_count": 34,
   "metadata": {},
   "outputs": [],
   "source": [
    "processed_headlines_2016 = headlines_2016['processed'].astype(str)\n",
    "processed_headlines_2017 = headlines_2017['processed'].astype(str)\n",
    "processed_headlines_2018 = headlines_2018['processed'].astype(str)\n",
    "processed_headlines_2019 = headlines_2019['processed'].astype(str)\n",
    "processed_headlines_2020 = headlines_2020['processed'].astype(str)\n"
   ]
  },
  {
   "cell_type": "code",
   "execution_count": 36,
   "metadata": {},
   "outputs": [
    {
     "output_type": "execute_result",
     "data": {
      "text/plain": [
       "pandas.core.series.Series"
      ]
     },
     "metadata": {},
     "execution_count": 36
    }
   ],
   "source": [
    "type(processed_headlines_2020)"
   ]
  },
  {
   "source": [
    "## CorEx Topic Modeling (2020)"
   ],
   "cell_type": "markdown",
   "metadata": {}
  },
  {
   "cell_type": "code",
   "execution_count": 37,
   "metadata": {},
   "outputs": [],
   "source": [
    "vectorizer = CountVectorizer(max_features=40000,\n",
    "                             stop_words='english', token_pattern=\"\\\\b[a-z][a-z]+\\\\b\",\n",
    "                             binary=True)\n",
    "\n",
    "doc_word = vectorizer.fit_transform(processed_headlines_2020)\n",
    "words = list(np.asarray(vectorizer.get_feature_names()))\n"
   ]
  },
  {
   "cell_type": "code",
   "execution_count": 38,
   "metadata": {},
   "outputs": [
    {
     "output_type": "stream",
     "name": "stdout",
     "text": [
      "WARNING: number of row labels != number of rows of X. Check len(docs) and X.shape[0]\n",
      "0: trump, president, biden, joe, presidential, democratic, election, donald, vote, campaign\n",
      "1: coronavirus, covid, test, outbreak, spread, pandemic, vaccine, positive, hong, kong\n",
      "2: police, kill, protest, george, shoot, floyd, officer, protester, arrest, black\n",
      "3: star, game, player, nfl, nba, fan, film, league, football, movie\n",
      "4: market, stock, oil, investor, price, company, economy, sale, quarter, cut\n",
      "5: court, supreme, justice, charge, attorney, judge, prosecutor, prison, bryant, sentence\n",
      "6: restaurant, los, angeles, food, zoo, water, san, park, wildfire, animal\n",
      "7: south, minister, prime, korea, north, carolina, ship, boris, johnson, cruise\n",
      "8: law, security, federal, administration, government, rule, secretary, facebook, department, leader\n",
      "9: health, live, gov, dr, wear, mask, cuomo, update, care, fauci\n",
      "10: eu, app, apple, bank, google, deal, trade, tiktok, brexit, amazon\n",
      "11: billion, tesla, boeing, electric, car, musk, vehicle, elon, loan, uber\n",
      "12: nasa, hurricane, astronaut, space, laura, spacex, church, louisiana, brook, el\n",
      "13: wall, street, listen, look, podcast, journal, episode, world, america, life\n",
      "14: stimulus, unemployment, fund, relief, package, program, benefit, tax, job, business\n",
      "CPU times: user 4min 49s, sys: 54.4 s, total: 5min 43s\n",
      "Wall time: 5min 48s\n"
     ]
    }
   ],
   "source": [
    "%%time \n",
    "\n",
    "# n_hidden is the number of topics\n",
    "# Words is your list of words used in your corpus\n",
    "\n",
    "topic_model = ct.Corex(n_hidden=15, words=words, seed=1)\n",
    "topic_model.fit(doc_word, words=words, docs=processed_headlines_2020)\n",
    "\n",
    "# Print all topics from the CorEx topic model\n",
    "topics = topic_model.get_topics()\n",
    "for n,topic in enumerate(topics):\n",
    "    topic_words,_ = zip(*topic)\n",
    "    print('{}: '.format(n) + ', '.join(topic_words))"
   ]
  },
  {
   "cell_type": "code",
   "execution_count": 21,
   "metadata": {},
   "outputs": [
    {
     "output_type": "execute_result",
     "data": {
      "text/plain": [
       "[('talk daniel goldman lawyer democrat house intelligence committee impeachment president trump john bolton criticize democrat commit impeachment malpractice',\n",
       "  0.0),\n",
       " ('joke convey wrong message afford receive terrible misinformation michigan ag dana nessel react pres trump refusal wear mask front camera tour ford factory',\n",
       "  0.0),\n",
       " ('attorney bill barr tell pierretabc potential pardon roger stone commutation sentence pres trump prerogative feel appropriate prosecution sentence fair',\n",
       "  0.0),\n",
       " ('sen chuck schumer pres trump blue comment outcome election determine live count dement person american live count',\n",
       "  0.0),\n",
       " ('republican senator include mitch mcconnell mitt romney john cornyn susan collins blast presidential debate',\n",
       "  0.0)]"
      ]
     },
     "metadata": {},
     "execution_count": 21
    }
   ],
   "source": [
    "# Let's check out different topics\n",
    "topic_model.get_top_docs(topic = 1, n_docs=5)"
   ]
  },
  {
   "cell_type": "code",
   "execution_count": 24,
   "metadata": {},
   "outputs": [],
   "source": [
    "# Look for elbow to determine topic model number\n",
    "\n",
    "plt.figure(figsize=(10,5))\n",
    "plt.bar(range(topic_model.tcs.shape[0]), topic_model.tcs, color='#4e79a7', width=0.5)\n",
    "plt.xlabel('Topic', fontsize=16)\n",
    "plt.ylabel('Total Correlation (nats)', fontsize=16);\n"
   ]
  },
  {
   "cell_type": "code",
   "execution_count": 51,
   "metadata": {},
   "outputs": [
    {
     "output_type": "stream",
     "name": "stdout",
     "text": [
      "WARNING: number of row labels != number of rows of X. Check len(docs) and X.shape[0]\n",
      "WARNING: Anchor word not in word column labels provided to CorEx: coronavirus\n",
      "0: police,shoot,kill,officer,suspect,attack,arrest,injure,bomb,dead\n",
      "1: wildfire,hurricane,zika,matthew,rescue,earthquake,water,coast,virus,storm\n",
      "2: korea,north,south,syria,syrian,carolina,minister,aleppo,turkey,rebel\n",
      "3: facebook,askforbes,apple,iphone,user,google,news,valley,microsoft,mon\n",
      "4: penny,mike,lee,ap,tim,moran,kaine,james,chris,gov\n",
      "5: trump,donald,clinton,hillary,supreme,obama,presidential,campaign,debate,president\n",
      "6: fall,america,japan,set,chinese,tell,india,record,john,black\n",
      "7: rio,olympic,car,olympics,drive,self,medal,athlete,electric,tesla\n",
      "8: wall,street,journal,st,look,louis,chasevoice,jpmorgan,ganesh,janan\n",
      "9: star,school,student,prince,college,actor,ali,film,prize,award\n",
      "10: pope,die,castro,francis,mom,martin,fidel,birthday,celebrate,photo\n",
      "11: court,law,judge,sentence,assault,sexual,prison,federal,right,justice\n",
      "12: billion,fund,million,finance,company,tax,personal,pay,buy,ceo\n",
      "13: fastft,stock,market,bank,oil,rate,brexit,low,uk,price\n",
      "14: city,york,near,change,strike,park,chicago,gas,australia,mexico\n"
     ]
    }
   ],
   "source": [
    "topic_model = ct.Corex(n_hidden=15, words=words,\n",
    "                       max_iter=200, verbose=False, seed=1)\n",
    "\n",
    "topic_model.fit(doc_word, words=words, docs=processed_headlines_2020, \n",
    "                anchors=[['coronavirus'], \n",
    "                         ['police'], \n",
    "                         ['wildfire'],\n",
    "                         ['korea'],\n",
    "                         ['facebook'],\n",
    "                         ['cuomo'],\n",
    "                         ['supreme']], anchor_strength=4)\n",
    "\n",
    "# Print all topics from the CorEx topic model\n",
    "topics = topic_model.get_topics()\n",
    "for n,topic in enumerate(topics):\n",
    "    topic_words,_ = zip(*topic)\n",
    "    print('{}: '.format(n) + ','.join(topic_words))"
   ]
  },
  {
   "cell_type": "code",
   "execution_count": 31,
   "metadata": {},
   "outputs": [
    {
     "output_type": "stream",
     "name": "stdout",
     "text": [
      "0: coronavirus,spread,report,confirm,country,quarantine,italy,surpass,update,rise\n1: coronavirus,pandemic,death,toll,infect,lockdown,daily,surge,wuhan,fear\n2: coronavirus,outbreak,positive,infection,amid,restriction,measure,travel,slow,impact\n3: coronavirus,test,novel,response,crisis,close,worldwide,continue,epicenter,tally\n4: storm,climate,coast,water,flood,wind,sea,rain,oil,weather\n5: hong,kong,sexual,china,hurricane,abuse,beijing,epstein,nasa,jeffrey\n6: court,supreme,minister,prime,brexit,johnson,boris,rule,eu,judge\n7: police,kill,officer,shoot,north,korea,south,military,iran,protest\n8: company,billion,market,stock,investor,bank,business,million,fund,pay\n9: health,covid,patient,vaccine,care,student,school,medical,hospital,disease\n10: biden,joe,presidential,democratic,election,sen,voter,vote,candidate,sander\n11: charge,city,wear,mask,york,mayor,murder,prosecutor,guilty,blasio\n12: los,angeles,california,park,baby,san,home,wildfire,child,family\n13: star,game,player,film,fan,music,movie,actor,play,taylor\n14: trump,president,house,donald,white,administration,gov,impeachment,george,floyd\n"
     ]
    }
   ],
   "source": [
    "# Trying to anchor on coronavirus with a few topics\n",
    "\n",
    "topic_model = ct.Corex(n_hidden=15, words=words,\n",
    "                       max_iter=200, verbose=False, seed=1)\n",
    "\n",
    "topic_model.fit(doc_word, words=words, docs=processed_headlines, \n",
    "                anchors=[['coronavirus'], ['coronavirus'], ['coronavirus'], ['coronavirus']], anchor_strength=5)\n",
    "\n",
    "# Print all topics from the CorEx topic model\n",
    "topics = topic_model.get_topics()\n",
    "for n,topic in enumerate(topics):\n",
    "    topic_words,_ = zip(*topic)\n",
    "    print('{}: '.format(n) + ','.join(topic_words))"
   ]
  },
  {
   "source": [
    "## 2019 Topics"
   ],
   "cell_type": "markdown",
   "metadata": {}
  },
  {
   "cell_type": "code",
   "execution_count": 42,
   "metadata": {},
   "outputs": [
    {
     "output_type": "stream",
     "name": "stdout",
     "text": [
      "0: house, impeachment, democratic, presidential, rep, democrat, biden, mueller, candidate, sen\n1: police, hong, kong, kill, shoot, arrest, charge, officer, suspect, authority\n2: china, trade, market, company, billion, bank, stock, investor, economy, rate\n3: scientist, water, rescue, los, angeles, food, nbcnewsmach, animal, plastic, eat\n4: trump, president, donald, pres, administration, ukraine, senate, congress, vice, border\n5: social, medium, movie, film, facebook, james, netflix, meghan, book, harry\n6: school, student, college, game, star, university, san, football, nfl, player\n7: federal, court, health, supreme, law, judge, rule, care, abortion, lawsuit\n8: minister, prime, johnson, boris, election, pm, party, parliament, israel, netanyahu\n9: north, south, saudi, korea, iran, carolina, arabia, syria, nuclear, korean\n10: news, abc, military, security, troop, force, fox, sri, maduro, afghanistan\n11: brexit, deal, eu, wall, uk, street, fund, britain, european, journal\n12: yankees, electric, car, apple, vehicle, tesla, iphone, mets, drive, samsung\n13: warren, elizabeth, mike, al, penny, pompeo, barack, merkel, angela, khashoggi\n14: dame, notre, musk, elon, cathedral, prize, anthony, nobel, brady, jean\n"
     ]
    }
   ],
   "source": [
    "%% time\n",
    "\n",
    "vectorizer = CountVectorizer(max_features=40000,\n",
    "                             stop_words='english', token_pattern=\"\\\\b[a-z][a-z]+\\\\b\",\n",
    "                             binary=True)\n",
    "\n",
    "doc_word = vectorizer.fit_transform(processed_headlines_2019)\n",
    "words = list(np.asarray(vectorizer.get_feature_names()))\n",
    "\n",
    "# n_hidden is the number of topics\n",
    "# Words is your list of words used in your corpus\n",
    "\n",
    "topic_model = ct.Corex(n_hidden=15, words=words, seed=1)\n",
    "topic_model.fit(doc_word, words=words, docs=processed_headlines_2019)\n",
    "\n",
    "# Print all topics from the CorEx topic model\n",
    "topics = topic_model.get_topics()\n",
    "for n,topic in enumerate(topics):\n",
    "    topic_words,_ = zip(*topic)\n",
    "    print('{}: '.format(n) + ', '.join(topic_words))\n"
   ]
  },
  {
   "source": [
    "## 2018 Topics"
   ],
   "cell_type": "markdown",
   "metadata": {}
  },
  {
   "cell_type": "code",
   "execution_count": 47,
   "metadata": {},
   "outputs": [
    {
     "output_type": "stream",
     "name": "stdout",
     "text": [
      "0: police, kill, hurricane, storm, crash, officer, suspect, authority, california, rescue\n1: election, senate, sen, kavanaugh, democrat, vote, republican, brett, democratic, midterm\n2: trump, president, pres, donald, administration, obama, bush, analysis, mccain, john\n3: court, sexual, supreme, charge, judge, justice, allegation, assault, abuse, attorney\n4: north, korea, south, kim, korean, jong, carolina, summit, olympics, pope\n5: white, house, mueller, cohen, special, counsel, michael, tell, robert, cnn\n6: saudi, khashoggi, arabia, nbcnewsmach, scientist, jamal, prince, cancer, nasa, study\n7: china, trade, tariff, brexit, eu, deal, billion, chinese, street, wall\n8: star, film, movie, music, award, song, stephen, actor, actress, williams\n9: shoot, school, gun, florida, parkland, mass, shooter, musk, elon, pittsburgh\n10: student, college, player, university, football, nfl, nbcout, game, soccer, team\n11: die, mother, girl, boy, home, daughter, dog, family, son, father\n12: facebook, company, social, datum, medium, ceo, user, google, zuckerberg, publish\n13: market, stock, sell, bank, million, sale, dollar, buy, tech, industry\n14: child, health, parent, care, food, eat, nbcnewsbetter, kid, car, mental\n"
     ]
    }
   ],
   "source": [
    "vectorizer = CountVectorizer(max_features=40000,\n",
    "                             stop_words='english', token_pattern=\"\\\\b[a-z][a-z]+\\\\b\",\n",
    "                             binary=True)\n",
    "\n",
    "doc_word = vectorizer.fit_transform(processed_headlines_2018)\n",
    "words = list(np.asarray(vectorizer.get_feature_names()))\n",
    "\n",
    "# n_hidden is the number of topics\n",
    "# Words is your list of words used in your corpus\n",
    "\n",
    "topic_model = ct.Corex(n_hidden=15, words=words, seed=1)\n",
    "topic_model.fit(doc_word, words=words, docs=processed_headlines_2018)\n",
    "\n",
    "# Print all topics from the CorEx topic model\n",
    "topics = topic_model.get_topics()\n",
    "for n,topic in enumerate(topics):\n",
    "    topic_words,_ = zip(*topic)\n",
    "    print('{}: '.format(n) + ', '.join(topic_words))"
   ]
  },
  {
   "source": [
    "## 2017 Topics"
   ],
   "cell_type": "markdown",
   "metadata": {}
  },
  {
   "source": [
    "vectorizer = CountVectorizer(max_features=30000,\n",
    "                             stop_words='english', token_pattern=\"\\\\b[a-z][a-z]+\\\\b\",\n",
    "                             binary=True)\n",
    "\n",
    "doc_word = vectorizer.fit_transform(processed_headlines_2017)\n",
    "words = list(np.asarray(vectorizer.get_feature_names()))\n",
    "\n",
    "# n_hidden is the number of topics\n",
    "# Words is your list of words used in your corpus\n",
    "\n",
    "topic_model = ct.Corex(n_hidden=15, words=words, seed=1)\n",
    "topic_model.fit(doc_word, words=words, docs=processed_headlines_2017)\n",
    "\n",
    "# Print all topics from the CorEx topic model\n",
    "topics = topic_model.get_topics()\n",
    "for n,topic in enumerate(topics):\n",
    "    topic_words,_ = zip(*topic)\n",
    "    print('{}: '.format(n) + ', '.join(topic_words))"
   ],
   "cell_type": "code",
   "metadata": {},
   "execution_count": 48,
   "outputs": [
    {
     "output_type": "stream",
     "name": "stdout",
     "text": [
      "0: police, hurricane, shoot, kill, irma, puerto, vega, rico, officer, florida\n1: trump, president, house, pres, white, donald, senate, gop, care, administration\n2: stock, bank, market, investor, sale, rate, profit, growth, uk, price\n3: sexual, star, harassment, nfl, player, misconduct, allegation, bowl, prince, assault\n4: north, korea, south, missile, korean, kim, carolina, jong, kong, hong\n5: attack, syria, flight, isis, san, islamic, terror, syrian, airline, force\n6: election, moore, roy, alabama, clinton, penny, hillary, candidate, presidential, joe\n7: court, judge, charge, supreme, ban, travel, federal, prison, sentence, murder\n8: cancer, drug, study, opioid, patient, brain, disease, treatment, valley, doctor\n9: minister, saudi, prime, arabia, pope, myanmar, rohingya, francis, catalonia, independence\n10: wall, street, apple, amazon, tech, company, journal, iphone, google, store\n11: news, paul, fox, fbi, guilty, ryan, social, medium, abc, director\n12: statue, die, confederate, jimmy, christmas, game, baseball, lee, monument, birthday\n13: security, russian, justice, department, macron, probe, chief, investigation, national, resign\n14: tax, write, climate, opinion, change, reform, plan, overhaul, askforbes, xi\n"
     ]
    }
   ]
  },
  {
   "source": [
    "## 2016 Topics"
   ],
   "cell_type": "markdown",
   "metadata": {}
  },
  {
   "cell_type": "code",
   "execution_count": 49,
   "metadata": {},
   "outputs": [
    {
     "output_type": "stream",
     "name": "stdout",
     "text": [
      "0: trump, donald, clinton, hillary, obama, presidential, campaign, president, debate, sander\n1: police, shoot, kill, attack, suspect, officer, death, arrest, charge, injure\n2: fastft, stock, market, oil, bank, rate, profit, price, low, bond\n3: north, south, syria, court, korea, syrian, carolina, aleppo, hurricane, supreme\n4: star, die, lee, moran, david, george, actor, martin, age, james\n5: rio, plane, flight, olympic, olympics, airline, air, passenger, egyptair, medal\n6: billion, apple, finance, million, personal, fund, company, askforbes, iphone, tax\n7: zika, health, drug, cancer, study, virus, patient, care, drive, doctor\n8: warren, prince, valley, music, college, harry, taylor, award, elizabeth, silicon\n9: live, watch, news, paul, facebook, social, ryan, medium, abc, coverage\n10: player, game, team, nfl, football, soccer, sport, chris, christie, nba\n11: san, water, park, francisco, flint, rescue, zoo, galaxy, note, ice\n12: eu, minister, prime, britain, opinion, foreign, referendum, cameron, merkel, resign\n13: russian, isis, iraq, putin, army, national, american, defense, visit, al\n14: china, food, chinese, world, scientist, technology, space, japan, taiwan, giant\n"
     ]
    }
   ],
   "source": [
    "vectorizer = CountVectorizer(max_features=30000,\n",
    "                             stop_words='english', token_pattern=\"\\\\b[a-z][a-z]+\\\\b\",\n",
    "                             binary=True)\n",
    "\n",
    "doc_word = vectorizer.fit_transform(processed_headlines_2016)\n",
    "words = list(np.asarray(vectorizer.get_feature_names()))\n",
    "\n",
    "# n_hidden is the number of topics\n",
    "# Words is your list of words used in your corpus\n",
    "\n",
    "topic_model = ct.Corex(n_hidden=15, words=words, seed=1)\n",
    "topic_model.fit(doc_word, words=words, docs=processed_headlines_2016)\n",
    "\n",
    "# Print all topics from the CorEx topic model\n",
    "topics = topic_model.get_topics()\n",
    "for n,topic in enumerate(topics):\n",
    "    topic_words,_ = zip(*topic)\n",
    "    print('{}: '.format(n) + ', '.join(topic_words))"
   ]
  },
  {
   "cell_type": "code",
   "execution_count": null,
   "metadata": {},
   "outputs": [],
   "source": []
  }
 ]
}